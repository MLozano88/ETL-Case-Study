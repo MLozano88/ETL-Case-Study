{
 "metadata": {
  "language_info": {
   "codemirror_mode": {
    "name": "ipython",
    "version": 3
   },
   "file_extension": ".py",
   "mimetype": "text/x-python",
   "name": "python",
   "nbconvert_exporter": "python",
   "pygments_lexer": "ipython3",
   "version": "3.8.3-final"
  },
  "orig_nbformat": 2,
  "kernelspec": {
   "name": "python3",
   "display_name": "Python 3",
   "language": "python"
  }
 },
 "nbformat": 4,
 "nbformat_minor": 2,
 "cells": [
  {
   "cell_type": "code",
   "execution_count": 1,
   "metadata": {},
   "outputs": [],
   "source": [
    "import pandas as pd\n",
    "from sqlalchemy import create_engine"
   ]
  },
  {
   "cell_type": "code",
   "execution_count": 2,
   "metadata": {},
   "outputs": [
    {
     "output_type": "execute_result",
     "data": {
      "text/plain": [
       "      Unnamed: 0                                    title  \\\n",
       "8608        8608                                   Sergio   \n",
       "6666        6666                               The Cooler   \n",
       "7137        7137                                 Casshern   \n",
       "6735        6735                             Viva Zapata!   \n",
       "3511        3511                                The Brood   \n",
       "7540        7540                          Death Race 2000   \n",
       "664          664                         Four Kids and It   \n",
       "7974        7974                             Blue Crush 2   \n",
       "2447        2447                                     Gold   \n",
       "4109        4109                           Shark Night 3D   \n",
       "3787        3787                                    Enemy   \n",
       "2459        2459                                The Limey   \n",
       "3515        3515                           Material Girls   \n",
       "3318        3318  The Sisterhood of the Traveling Pants 2   \n",
       "7727        7727                 Father There Is Only One   \n",
       "5547        5547                         Une belle équipe   \n",
       "2209        2209                               Annie Hall   \n",
       "4969        4969            The Odd Life of Timothy Green   \n",
       "7681        7681                                     Bird   \n",
       "3484        3484                          Friday the 13th   \n",
       "\n",
       "                                               overview original_language  \\\n",
       "8608  A sweeping drama set in the chaotic aftermath ...                en   \n",
       "6666  Bernie works at a Las Vegas casino, where he u...                en   \n",
       "7137  Fifty years of war between the Great Eastern F...                ja   \n",
       "6735  The story of Mexican revolutionary Emiliano Za...                en   \n",
       "3511  A man tries to uncover an unconventional psych...                en   \n",
       "7540  In a boorish future, the government sponsors a...                en   \n",
       "664   A group of kids on holiday in Cornwall meet a ...                en   \n",
       "7974  Haunted by the memory of her deceased mother, ...                en   \n",
       "2447  Kenny Wells, a modern-day prospector, hustler,...                en   \n",
       "4109  A weekend at a lake house in the Louisiana Gul...                en   \n",
       "3787  A mild-mannered college professor discovers a ...                en   \n",
       "2459  The Limey follows Wilson, a tough English ex-c...                en   \n",
       "3515  Two wealthy sisters, both heiresses to their f...                en   \n",
       "3318  Four young women continue the journey toward a...                en   \n",
       "7727  Javier is what we have dubbed as a \"husband-in...                es   \n",
       "5547                                                NaN                fr   \n",
       "2209  New York comedian Alvy Singer falls in love wi...                en   \n",
       "4969  A childless couple bury a box in their backyar...                en   \n",
       "7681  Saxophone player Charlie Parker comes to New Y...                en   \n",
       "3484  Camp counselors are stalked and murdered by an...                en   \n",
       "\n",
       "      vote_count  vote_average  \n",
       "8608           0           0.0  \n",
       "6666         177           6.8  \n",
       "7137         133           6.0  \n",
       "6735         102           7.0  \n",
       "3511         313           6.7  \n",
       "7540         236           6.1  \n",
       "664            1          10.0  \n",
       "7974          68           6.0  \n",
       "2447         994           6.6  \n",
       "4109         293           4.9  \n",
       "3787        3336           6.9  \n",
       "2459         197           6.7  \n",
       "3515         315           5.2  \n",
       "3318         560           6.2  \n",
       "7727          96           6.6  \n",
       "5547          24           6.1  \n",
       "2209        2391           7.8  \n",
       "4969         693           6.7  \n",
       "7681         129           7.0  \n",
       "3484        1504           6.3  "
      ],
      "text/html": "<div>\n<style scoped>\n    .dataframe tbody tr th:only-of-type {\n        vertical-align: middle;\n    }\n\n    .dataframe tbody tr th {\n        vertical-align: top;\n    }\n\n    .dataframe thead th {\n        text-align: right;\n    }\n</style>\n<table border=\"1\" class=\"dataframe\">\n  <thead>\n    <tr style=\"text-align: right;\">\n      <th></th>\n      <th>Unnamed: 0</th>\n      <th>title</th>\n      <th>overview</th>\n      <th>original_language</th>\n      <th>vote_count</th>\n      <th>vote_average</th>\n    </tr>\n  </thead>\n  <tbody>\n    <tr>\n      <th>8608</th>\n      <td>8608</td>\n      <td>Sergio</td>\n      <td>A sweeping drama set in the chaotic aftermath ...</td>\n      <td>en</td>\n      <td>0</td>\n      <td>0.0</td>\n    </tr>\n    <tr>\n      <th>6666</th>\n      <td>6666</td>\n      <td>The Cooler</td>\n      <td>Bernie works at a Las Vegas casino, where he u...</td>\n      <td>en</td>\n      <td>177</td>\n      <td>6.8</td>\n    </tr>\n    <tr>\n      <th>7137</th>\n      <td>7137</td>\n      <td>Casshern</td>\n      <td>Fifty years of war between the Great Eastern F...</td>\n      <td>ja</td>\n      <td>133</td>\n      <td>6.0</td>\n    </tr>\n    <tr>\n      <th>6735</th>\n      <td>6735</td>\n      <td>Viva Zapata!</td>\n      <td>The story of Mexican revolutionary Emiliano Za...</td>\n      <td>en</td>\n      <td>102</td>\n      <td>7.0</td>\n    </tr>\n    <tr>\n      <th>3511</th>\n      <td>3511</td>\n      <td>The Brood</td>\n      <td>A man tries to uncover an unconventional psych...</td>\n      <td>en</td>\n      <td>313</td>\n      <td>6.7</td>\n    </tr>\n    <tr>\n      <th>7540</th>\n      <td>7540</td>\n      <td>Death Race 2000</td>\n      <td>In a boorish future, the government sponsors a...</td>\n      <td>en</td>\n      <td>236</td>\n      <td>6.1</td>\n    </tr>\n    <tr>\n      <th>664</th>\n      <td>664</td>\n      <td>Four Kids and It</td>\n      <td>A group of kids on holiday in Cornwall meet a ...</td>\n      <td>en</td>\n      <td>1</td>\n      <td>10.0</td>\n    </tr>\n    <tr>\n      <th>7974</th>\n      <td>7974</td>\n      <td>Blue Crush 2</td>\n      <td>Haunted by the memory of her deceased mother, ...</td>\n      <td>en</td>\n      <td>68</td>\n      <td>6.0</td>\n    </tr>\n    <tr>\n      <th>2447</th>\n      <td>2447</td>\n      <td>Gold</td>\n      <td>Kenny Wells, a modern-day prospector, hustler,...</td>\n      <td>en</td>\n      <td>994</td>\n      <td>6.6</td>\n    </tr>\n    <tr>\n      <th>4109</th>\n      <td>4109</td>\n      <td>Shark Night 3D</td>\n      <td>A weekend at a lake house in the Louisiana Gul...</td>\n      <td>en</td>\n      <td>293</td>\n      <td>4.9</td>\n    </tr>\n    <tr>\n      <th>3787</th>\n      <td>3787</td>\n      <td>Enemy</td>\n      <td>A mild-mannered college professor discovers a ...</td>\n      <td>en</td>\n      <td>3336</td>\n      <td>6.9</td>\n    </tr>\n    <tr>\n      <th>2459</th>\n      <td>2459</td>\n      <td>The Limey</td>\n      <td>The Limey follows Wilson, a tough English ex-c...</td>\n      <td>en</td>\n      <td>197</td>\n      <td>6.7</td>\n    </tr>\n    <tr>\n      <th>3515</th>\n      <td>3515</td>\n      <td>Material Girls</td>\n      <td>Two wealthy sisters, both heiresses to their f...</td>\n      <td>en</td>\n      <td>315</td>\n      <td>5.2</td>\n    </tr>\n    <tr>\n      <th>3318</th>\n      <td>3318</td>\n      <td>The Sisterhood of the Traveling Pants 2</td>\n      <td>Four young women continue the journey toward a...</td>\n      <td>en</td>\n      <td>560</td>\n      <td>6.2</td>\n    </tr>\n    <tr>\n      <th>7727</th>\n      <td>7727</td>\n      <td>Father There Is Only One</td>\n      <td>Javier is what we have dubbed as a \"husband-in...</td>\n      <td>es</td>\n      <td>96</td>\n      <td>6.6</td>\n    </tr>\n    <tr>\n      <th>5547</th>\n      <td>5547</td>\n      <td>Une belle équipe</td>\n      <td>NaN</td>\n      <td>fr</td>\n      <td>24</td>\n      <td>6.1</td>\n    </tr>\n    <tr>\n      <th>2209</th>\n      <td>2209</td>\n      <td>Annie Hall</td>\n      <td>New York comedian Alvy Singer falls in love wi...</td>\n      <td>en</td>\n      <td>2391</td>\n      <td>7.8</td>\n    </tr>\n    <tr>\n      <th>4969</th>\n      <td>4969</td>\n      <td>The Odd Life of Timothy Green</td>\n      <td>A childless couple bury a box in their backyar...</td>\n      <td>en</td>\n      <td>693</td>\n      <td>6.7</td>\n    </tr>\n    <tr>\n      <th>7681</th>\n      <td>7681</td>\n      <td>Bird</td>\n      <td>Saxophone player Charlie Parker comes to New Y...</td>\n      <td>en</td>\n      <td>129</td>\n      <td>7.0</td>\n    </tr>\n    <tr>\n      <th>3484</th>\n      <td>3484</td>\n      <td>Friday the 13th</td>\n      <td>Camp counselors are stalked and murdered by an...</td>\n      <td>en</td>\n      <td>1504</td>\n      <td>6.3</td>\n    </tr>\n  </tbody>\n</table>\n</div>"
     },
     "metadata": {},
     "execution_count": 2
    }
   ],
   "source": [
    "#Reading in the CSV and creating the dataframe\n",
    "csv_file = \"Resources/TMDB_updated.CSV\"\n",
    "tmdb_df = pd.read_csv(csv_file)\n",
    "tmdb_df.sample(20)"
   ]
  },
  {
   "cell_type": "code",
   "execution_count": 3,
   "metadata": {},
   "outputs": [
    {
     "output_type": "execute_result",
     "data": {
      "text/plain": [
       "Unnamed: 0             int64\n",
       "title                 object\n",
       "overview              object\n",
       "original_language     object\n",
       "vote_count             int64\n",
       "vote_average         float64\n",
       "dtype: object"
      ]
     },
     "metadata": {},
     "execution_count": 3
    }
   ],
   "source": [
    "#The next few cells will give some information on the data; what are we working with?\n",
    "tmdb_df.dtypes"
   ]
  },
  {
   "cell_type": "code",
   "execution_count": 4,
   "metadata": {},
   "outputs": [
    {
     "output_type": "execute_result",
     "data": {
      "text/plain": [
       "Index(['Unnamed: 0', 'title', 'overview', 'original_language', 'vote_count',\n",
       "       'vote_average'],\n",
       "      dtype='object')"
      ]
     },
     "metadata": {},
     "execution_count": 4
    }
   ],
   "source": [
    "tmdb_df.columns"
   ]
  },
  {
   "cell_type": "code",
   "execution_count": 5,
   "metadata": {},
   "outputs": [
    {
     "output_type": "execute_result",
     "data": {
      "text/plain": [
       "10000"
      ]
     },
     "metadata": {},
     "execution_count": 5
    }
   ],
   "source": [
    "#Number of rows\n",
    "tmdb_df['Unnamed: 0'].count()"
   ]
  },
  {
   "cell_type": "code",
   "execution_count": 6,
   "metadata": {},
   "outputs": [
    {
     "output_type": "execute_result",
     "data": {
      "text/plain": [
       "        Id                           Movie  \\\n",
       "0        0                        Ad Astra   \n",
       "1        1                       Bloodshot   \n",
       "2        2               Bad Boys for Life   \n",
       "3        3                         Ant-Man   \n",
       "4        4  Percy Jackson: Sea of Monsters   \n",
       "...    ...                             ...   \n",
       "9995  9995                           Cargo   \n",
       "9996  9996                  The Good Night   \n",
       "9997  9997              The World Is Yours   \n",
       "9998  9998             The Grand Seduction   \n",
       "9999  9999        Woochi: The Demon Slayer   \n",
       "\n",
       "                                            Description  Vote_Count  \\\n",
       "0     The near future, a time when both hope and har...        2853   \n",
       "1     After he and his wife are murdered, marine Ray...        1349   \n",
       "2     Marcus and Mike are forced to confront new thr...        2530   \n",
       "3     Armed with the astonishing ability to shrink i...       13611   \n",
       "4     In their quest to confront the ultimate evil, ...        3542   \n",
       "...                                                 ...         ...   \n",
       "9995  The story of CARGO takes place on rusty space-...         225   \n",
       "9996  Gary, a musician, is trapped in an unhappy rel...          67   \n",
       "9997  To escape his life of crime, a Paris drug deal...         234   \n",
       "9998  A small fishing village must procure a local d...         169   \n",
       "9999  Spanning four centuries in Korea, this epic ac...          78   \n",
       "\n",
       "      Vote_Average  \n",
       "0              5.9  \n",
       "1              7.2  \n",
       "2              7.1  \n",
       "3              7.1  \n",
       "4              5.9  \n",
       "...            ...  \n",
       "9995           5.9  \n",
       "9996           5.6  \n",
       "9997           7.1  \n",
       "9998           6.7  \n",
       "9999           6.7  \n",
       "\n",
       "[10000 rows x 5 columns]"
      ],
      "text/html": "<div>\n<style scoped>\n    .dataframe tbody tr th:only-of-type {\n        vertical-align: middle;\n    }\n\n    .dataframe tbody tr th {\n        vertical-align: top;\n    }\n\n    .dataframe thead th {\n        text-align: right;\n    }\n</style>\n<table border=\"1\" class=\"dataframe\">\n  <thead>\n    <tr style=\"text-align: right;\">\n      <th></th>\n      <th>Id</th>\n      <th>Movie</th>\n      <th>Description</th>\n      <th>Vote_Count</th>\n      <th>Vote_Average</th>\n    </tr>\n  </thead>\n  <tbody>\n    <tr>\n      <th>0</th>\n      <td>0</td>\n      <td>Ad Astra</td>\n      <td>The near future, a time when both hope and har...</td>\n      <td>2853</td>\n      <td>5.9</td>\n    </tr>\n    <tr>\n      <th>1</th>\n      <td>1</td>\n      <td>Bloodshot</td>\n      <td>After he and his wife are murdered, marine Ray...</td>\n      <td>1349</td>\n      <td>7.2</td>\n    </tr>\n    <tr>\n      <th>2</th>\n      <td>2</td>\n      <td>Bad Boys for Life</td>\n      <td>Marcus and Mike are forced to confront new thr...</td>\n      <td>2530</td>\n      <td>7.1</td>\n    </tr>\n    <tr>\n      <th>3</th>\n      <td>3</td>\n      <td>Ant-Man</td>\n      <td>Armed with the astonishing ability to shrink i...</td>\n      <td>13611</td>\n      <td>7.1</td>\n    </tr>\n    <tr>\n      <th>4</th>\n      <td>4</td>\n      <td>Percy Jackson: Sea of Monsters</td>\n      <td>In their quest to confront the ultimate evil, ...</td>\n      <td>3542</td>\n      <td>5.9</td>\n    </tr>\n    <tr>\n      <th>...</th>\n      <td>...</td>\n      <td>...</td>\n      <td>...</td>\n      <td>...</td>\n      <td>...</td>\n    </tr>\n    <tr>\n      <th>9995</th>\n      <td>9995</td>\n      <td>Cargo</td>\n      <td>The story of CARGO takes place on rusty space-...</td>\n      <td>225</td>\n      <td>5.9</td>\n    </tr>\n    <tr>\n      <th>9996</th>\n      <td>9996</td>\n      <td>The Good Night</td>\n      <td>Gary, a musician, is trapped in an unhappy rel...</td>\n      <td>67</td>\n      <td>5.6</td>\n    </tr>\n    <tr>\n      <th>9997</th>\n      <td>9997</td>\n      <td>The World Is Yours</td>\n      <td>To escape his life of crime, a Paris drug deal...</td>\n      <td>234</td>\n      <td>7.1</td>\n    </tr>\n    <tr>\n      <th>9998</th>\n      <td>9998</td>\n      <td>The Grand Seduction</td>\n      <td>A small fishing village must procure a local d...</td>\n      <td>169</td>\n      <td>6.7</td>\n    </tr>\n    <tr>\n      <th>9999</th>\n      <td>9999</td>\n      <td>Woochi: The Demon Slayer</td>\n      <td>Spanning four centuries in Korea, this epic ac...</td>\n      <td>78</td>\n      <td>6.7</td>\n    </tr>\n  </tbody>\n</table>\n<p>10000 rows × 5 columns</p>\n</div>"
     },
     "metadata": {},
     "execution_count": 6
    }
   ],
   "source": [
    "#Cleaning the CSV \n",
    "tmdb_df = tmdb_df.rename(columns={\"Unnamed: 0\":\"Id\",\"title\":\"Movie\",\"overview\":\"Description\",\"vote_count\":\"Vote_Count\",\"vote_average\":\"Vote_Average\"})\n",
    "\n",
    "del tmdb_df['original_language']\n",
    "\n",
    "tmdb_df"
   ]
  },
  {
   "cell_type": "code",
   "execution_count": 7,
   "metadata": {},
   "outputs": [],
   "source": [
    "#Writing a new CSV based on the clean version\n",
    "tmdb_df.to_csv(\"clean_tmdb.csv\",index=False)"
   ]
  },
  {
   "cell_type": "code",
   "execution_count": null,
   "metadata": {},
   "outputs": [],
   "source": []
  }
 ]
}